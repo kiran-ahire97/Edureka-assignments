{
 "cells": [
  {
   "cell_type": "markdown",
   "id": "2ac96c1c",
   "metadata": {},
   "source": [
    "# Module 1: Introduction to Python"
   ]
  },
  {
   "cell_type": "code",
   "execution_count": 2,
   "id": "b0a65345",
   "metadata": {},
   "outputs": [],
   "source": [
    "# 1. Write a program to find the factors of a given number and check whether the \n",
    "# factor is even or odd"
   ]
  },
  {
   "cell_type": "code",
   "execution_count": 7,
   "id": "ec808a1a",
   "metadata": {},
   "outputs": [
    {
     "name": "stdout",
     "output_type": "stream",
     "text": [
      "Enter the number \n",
      "9\n",
      "The the factors of 9 are:\n",
      "1 odd\n",
      "3 odd\n",
      "9 odd\n"
     ]
    }
   ],
   "source": [
    "x = int(input(\"Enter the number \\n\"))\n",
    "print(\"The factors of\",x,\"are:\")\n",
    "for i in range(1, x+1):\n",
    "    if x % i == 0:\n",
    "        if i % 2 == 0:\n",
    "            print(i, \"even\")\n",
    "        else:\n",
    "            print(i, \"odd\")"
   ]
  },
  {
   "cell_type": "code",
   "execution_count": 8,
   "id": "bec8f590",
   "metadata": {},
   "outputs": [],
   "source": [
    "# 2. Write a code that accepts a sequence of words as input and prints the words in \n",
    "# a sequence after sorting them alphabetically."
   ]
  },
  {
   "cell_type": "code",
   "execution_count": 11,
   "id": "6410e04d",
   "metadata": {},
   "outputs": [
    {
     "name": "stdout",
     "output_type": "stream",
     "text": [
      "is a country in South Asia. It is the second-most populous country, the seventh-largest country by land area, and the most populous democracy in the world. Bounded by the Indian Ocean on the south, the Arabian Sea on the southwest, and the Bay of Bengal on the southeast, it shares land borders with Pakistan to the west; China, Nepal, and Bhutan to the north; and Bangladesh and Myanmar to the east.\n",
      "Arabian Asia. Bangladesh Bay Bengal Bhutan Bounded China, Indian It Myanmar Nepal, Ocean Pakistan Sea South a and area, borders by country country, democracy east. in is it land most north; of on populous second-most seventh-largest shares south, southeast, southwest, the to west; with world.\n"
     ]
    }
   ],
   "source": [
    "s = input()\n",
    "words = [word for word in s.split(\" \")]\n",
    "print(\" \".join(sorted(list(set(words)))))"
   ]
  },
  {
   "cell_type": "code",
   "execution_count": 12,
   "id": "bd899b5d",
   "metadata": {},
   "outputs": [],
   "source": [
    "# 3. Write a program that will find all the numbers between 1000 and 3000 (both \n",
    "# excluded) such that each digit of a number is an odd number. Print the number \n",
    "# of such elements"
   ]
  },
  {
   "cell_type": "code",
   "execution_count": 2,
   "id": "7091aa0f",
   "metadata": {},
   "outputs": [
    {
     "name": "stdout",
     "output_type": "stream",
     "text": [
      "2000,2002,2004,2006,2008,2020,2022,2024,2026,2028,2040,2042,2044,2046,2048,2060,2062,2064,2066,2068,2080,2082,2084,2086,2088,2200,2202,2204,2206,2208,2220,2222,2224,2226,2228,2240,2242,2244,2246,2248,2260,2262,2264,2266,2268,2280,2282,2284,2286,2288,2400,2402,2404,2406,2408,2420,2422,2424,2426,2428,2440,2442,2444,2446,2448,2460,2462,2464,2466,2468,2480,2482,2484,2486,2488,2600,2602,2604,2606,2608,2620,2622,2624,2626,2628,2640,2642,2644,2646,2648,2660,2662,2664,2666,2668,2680,2682,2684,2686,2688,2800,2802,2804,2806,2808,2820,2822,2824,2826,2828,2840,2842,2844,2846,2848,2860,2862,2864,2866,2868,2880,2882,2884,2886,2888\n"
     ]
    }
   ],
   "source": [
    "values = []\n",
    "for i in range(1000, 3001):\n",
    "    s = str(i)\n",
    "    if (int(s[0])%2==0) and (int(s[1])%2==0) and (int(s[2])%2==0) and (int(s[3])%2==0):\n",
    "        values.append(s)\n",
    "print(\",\".join(values))"
   ]
  },
  {
   "cell_type": "code",
   "execution_count": 3,
   "id": "685cb991",
   "metadata": {},
   "outputs": [],
   "source": [
    "# 4. Write a program that accepts a string and calculates the number of letters \n",
    "# and digits.\n",
    "# Suppose if the entered string is: Edureka123\n",
    "# Then the output will be:\n",
    "# LETTERS: - 7\n",
    "# DIGITS: - 3"
   ]
  },
  {
   "cell_type": "code",
   "execution_count": 1,
   "id": "764043b9",
   "metadata": {},
   "outputs": [
    {
     "name": "stdout",
     "output_type": "stream",
     "text": [
      "Number of Digit is 3\n",
      "Number of Alphabets is 5\n"
     ]
    }
   ],
   "source": [
    "alpha,string=0,\"kiran123\"\n",
    "for i in string:\n",
    "    if (i.isalpha()):\n",
    "        alpha+=1\n",
    "print(\"Number of Digit is\", len(string)-alpha)\n",
    "print(\"Number of Alphabets is\", alpha)"
   ]
  },
  {
   "cell_type": "code",
   "execution_count": 2,
   "id": "7b628224",
   "metadata": {},
   "outputs": [],
   "source": [
    "# 5. Design a code which will find whether the given number is Palindrome \n",
    "# number or not"
   ]
  },
  {
   "cell_type": "code",
   "execution_count": 10,
   "id": "734a2088",
   "metadata": {},
   "outputs": [
    {
     "name": "stdout",
     "output_type": "stream",
     "text": [
      "Enter a number101\n",
      "Yes its a palindrome\n"
     ]
    }
   ],
   "source": [
    "num = input(\"Enter a number\")\n",
    "if num == num[::-1]:\n",
    "    print(\"Yes its a palindrome\")\n",
    "else:\n",
    "    print(\"No, its not a palindrome\")"
   ]
  },
  {
   "cell_type": "code",
   "execution_count": null,
   "id": "46afc208",
   "metadata": {},
   "outputs": [],
   "source": []
  }
 ],
 "metadata": {
  "kernelspec": {
   "display_name": "Python 3 (ipykernel)",
   "language": "python",
   "name": "python3"
  },
  "language_info": {
   "codemirror_mode": {
    "name": "ipython",
    "version": 3
   },
   "file_extension": ".py",
   "mimetype": "text/x-python",
   "name": "python",
   "nbconvert_exporter": "python",
   "pygments_lexer": "ipython3",
   "version": "3.9.12"
  }
 },
 "nbformat": 4,
 "nbformat_minor": 5
}
